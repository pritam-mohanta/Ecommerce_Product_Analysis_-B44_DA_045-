{
 "cells": [
  {
   "cell_type": "code",
   "execution_count": 1,
   "id": "73cd7dae-322a-4445-8ee0-1499c935f205",
   "metadata": {},
   "outputs": [],
   "source": [
    "import pandas as pd\n",
    "import numpy as np\n",
    "import seaborn as sns\n",
    "import matplotlib.pyplot as plt"
   ]
  },
  {
   "cell_type": "code",
   "execution_count": 3,
   "id": "a46a1bb5-2a63-484d-b223-1cc64c2f54f9",
   "metadata": {},
   "outputs": [],
   "source": [
    "df = pd.read_csv('ECOMMERCE_PRICE.csv')"
   ]
  },
  {
   "cell_type": "code",
   "execution_count": 5,
   "id": "b0b57652-4c5a-4404-955e-39cf30cc0537",
   "metadata": {},
   "outputs": [
    {
     "data": {
      "text/html": [
       "<div>\n",
       "<style scoped>\n",
       "    .dataframe tbody tr th:only-of-type {\n",
       "        vertical-align: middle;\n",
       "    }\n",
       "\n",
       "    .dataframe tbody tr th {\n",
       "        vertical-align: top;\n",
       "    }\n",
       "\n",
       "    .dataframe thead th {\n",
       "        text-align: right;\n",
       "    }\n",
       "</style>\n",
       "<table border=\"1\" class=\"dataframe\">\n",
       "  <thead>\n",
       "    <tr style=\"text-align: right;\">\n",
       "      <th></th>\n",
       "      <th>WEBSITES</th>\n",
       "      <th>CATEGORY</th>\n",
       "      <th>SUB-CATEGORY</th>\n",
       "      <th>PRODUCT NAME</th>\n",
       "      <th>SPECIFICATIONS</th>\n",
       "      <th>COLOR</th>\n",
       "      <th>PRICE</th>\n",
       "      <th>DISCOUNT</th>\n",
       "      <th>BRAND</th>\n",
       "      <th>TYPE</th>\n",
       "    </tr>\n",
       "  </thead>\n",
       "  <tbody>\n",
       "    <tr>\n",
       "      <th>0</th>\n",
       "      <td>AMAZON</td>\n",
       "      <td>ELECTRONICS</td>\n",
       "      <td>PHONE</td>\n",
       "      <td>IPHONE-6</td>\n",
       "      <td>32GB</td>\n",
       "      <td>GOLD</td>\n",
       "      <td>30780</td>\n",
       "      <td>7</td>\n",
       "      <td>IPHONE</td>\n",
       "      <td>GADGET</td>\n",
       "    </tr>\n",
       "    <tr>\n",
       "      <th>1</th>\n",
       "      <td>AMAZON</td>\n",
       "      <td>ELECTRONICS</td>\n",
       "      <td>PHONE</td>\n",
       "      <td>IPHONE-6</td>\n",
       "      <td>32GB</td>\n",
       "      <td>SILVER</td>\n",
       "      <td>30780</td>\n",
       "      <td>7</td>\n",
       "      <td>IPHONE</td>\n",
       "      <td>GADGET</td>\n",
       "    </tr>\n",
       "    <tr>\n",
       "      <th>2</th>\n",
       "      <td>AMAZON</td>\n",
       "      <td>ELECTRONICS</td>\n",
       "      <td>PHONE</td>\n",
       "      <td>IPHONE-6</td>\n",
       "      <td>64GB</td>\n",
       "      <td>GOLD</td>\n",
       "      <td>60000</td>\n",
       "      <td>5</td>\n",
       "      <td>IPHONE</td>\n",
       "      <td>GADGET</td>\n",
       "    </tr>\n",
       "    <tr>\n",
       "      <th>3</th>\n",
       "      <td>AMAZON</td>\n",
       "      <td>ELECTRONICS</td>\n",
       "      <td>PHONE</td>\n",
       "      <td>IPHONE-6</td>\n",
       "      <td>64GB</td>\n",
       "      <td>SILVER</td>\n",
       "      <td>60000</td>\n",
       "      <td>5</td>\n",
       "      <td>IPHONE</td>\n",
       "      <td>GADGET</td>\n",
       "    </tr>\n",
       "    <tr>\n",
       "      <th>4</th>\n",
       "      <td>AMAZON</td>\n",
       "      <td>ELECTRONICS</td>\n",
       "      <td>PHONE</td>\n",
       "      <td>IPHONE-6</td>\n",
       "      <td>64GB</td>\n",
       "      <td>GRAY</td>\n",
       "      <td>60000</td>\n",
       "      <td>5</td>\n",
       "      <td>IPHONE</td>\n",
       "      <td>GADGET</td>\n",
       "    </tr>\n",
       "    <tr>\n",
       "      <th>...</th>\n",
       "      <td>...</td>\n",
       "      <td>...</td>\n",
       "      <td>...</td>\n",
       "      <td>...</td>\n",
       "      <td>...</td>\n",
       "      <td>...</td>\n",
       "      <td>...</td>\n",
       "      <td>...</td>\n",
       "      <td>...</td>\n",
       "      <td>...</td>\n",
       "    </tr>\n",
       "    <tr>\n",
       "      <th>490</th>\n",
       "      <td>FLIPKART</td>\n",
       "      <td>ELECTRONICS</td>\n",
       "      <td>TV</td>\n",
       "      <td>SAMSUNG AMOLED B</td>\n",
       "      <td>80CM</td>\n",
       "      <td>BLACK</td>\n",
       "      <td>30250</td>\n",
       "      <td>30</td>\n",
       "      <td>SAMSUNG</td>\n",
       "      <td>HOME APPLIENCES</td>\n",
       "    </tr>\n",
       "    <tr>\n",
       "      <th>491</th>\n",
       "      <td>FLIPKART</td>\n",
       "      <td>ELECTRONICS</td>\n",
       "      <td>TV</td>\n",
       "      <td>SAMSUNG ULTRA</td>\n",
       "      <td>108CM</td>\n",
       "      <td>BLACK</td>\n",
       "      <td>36400</td>\n",
       "      <td>25</td>\n",
       "      <td>SAMSUNG</td>\n",
       "      <td>HOME APPLIENCES</td>\n",
       "    </tr>\n",
       "    <tr>\n",
       "      <th>492</th>\n",
       "      <td>FLIPKART</td>\n",
       "      <td>ELECTRONICS</td>\n",
       "      <td>TV</td>\n",
       "      <td>SAMSUNG ULTRA PRO</td>\n",
       "      <td>108CM</td>\n",
       "      <td>BLACK</td>\n",
       "      <td>85600</td>\n",
       "      <td>35</td>\n",
       "      <td>SAMSUNG</td>\n",
       "      <td>HOME APPLIENCES</td>\n",
       "    </tr>\n",
       "    <tr>\n",
       "      <th>493</th>\n",
       "      <td>FLIPKART</td>\n",
       "      <td>ELECTRONICS</td>\n",
       "      <td>TV</td>\n",
       "      <td>SAMSUNG THE FRAME</td>\n",
       "      <td>138CM</td>\n",
       "      <td>BLACK</td>\n",
       "      <td>92600</td>\n",
       "      <td>25</td>\n",
       "      <td>SAMSUNG</td>\n",
       "      <td>HOME APPLIENCES</td>\n",
       "    </tr>\n",
       "    <tr>\n",
       "      <th>494</th>\n",
       "      <td>FLIPKART</td>\n",
       "      <td>ELECTRONICS</td>\n",
       "      <td>TV</td>\n",
       "      <td>SAMSUNG ULTRA QLED</td>\n",
       "      <td>138CM</td>\n",
       "      <td>BLACK</td>\n",
       "      <td>66700</td>\n",
       "      <td>35</td>\n",
       "      <td>SAMSUNG</td>\n",
       "      <td>HOME APPLIENCES</td>\n",
       "    </tr>\n",
       "  </tbody>\n",
       "</table>\n",
       "<p>495 rows × 10 columns</p>\n",
       "</div>"
      ],
      "text/plain": [
       "      WEBSITES     CATEGORY SUB-CATEGORY        PRODUCT NAME SPECIFICATIONS  \\\n",
       "0       AMAZON  ELECTRONICS        PHONE            IPHONE-6           32GB   \n",
       "1       AMAZON  ELECTRONICS        PHONE            IPHONE-6           32GB   \n",
       "2       AMAZON  ELECTRONICS        PHONE            IPHONE-6           64GB   \n",
       "3       AMAZON  ELECTRONICS        PHONE            IPHONE-6           64GB   \n",
       "4       AMAZON  ELECTRONICS        PHONE            IPHONE-6           64GB   \n",
       "..         ...          ...          ...                 ...            ...   \n",
       "490  FLIPKART   ELECTRONICS           TV    SAMSUNG AMOLED B           80CM   \n",
       "491  FLIPKART   ELECTRONICS           TV       SAMSUNG ULTRA          108CM   \n",
       "492  FLIPKART   ELECTRONICS           TV   SAMSUNG ULTRA PRO          108CM   \n",
       "493  FLIPKART   ELECTRONICS           TV   SAMSUNG THE FRAME          138CM   \n",
       "494  FLIPKART   ELECTRONICS           TV  SAMSUNG ULTRA QLED          138CM   \n",
       "\n",
       "      COLOR  PRICE  DISCOUNT    BRAND             TYPE  \n",
       "0      GOLD  30780         7   IPHONE           GADGET  \n",
       "1    SILVER  30780         7   IPHONE           GADGET  \n",
       "2      GOLD  60000         5   IPHONE           GADGET  \n",
       "3    SILVER  60000         5   IPHONE           GADGET  \n",
       "4      GRAY  60000         5   IPHONE           GADGET  \n",
       "..      ...    ...       ...      ...              ...  \n",
       "490   BLACK  30250        30  SAMSUNG  HOME APPLIENCES  \n",
       "491   BLACK  36400        25  SAMSUNG  HOME APPLIENCES  \n",
       "492   BLACK  85600        35  SAMSUNG  HOME APPLIENCES  \n",
       "493   BLACK  92600        25  SAMSUNG  HOME APPLIENCES  \n",
       "494   BLACK  66700        35  SAMSUNG  HOME APPLIENCES  \n",
       "\n",
       "[495 rows x 10 columns]"
      ]
     },
     "execution_count": 5,
     "metadata": {},
     "output_type": "execute_result"
    }
   ],
   "source": [
    "df"
   ]
  },
  {
   "cell_type": "code",
   "execution_count": 7,
   "id": "26a40a3a-dd5e-4595-a74d-a1e40937f66a",
   "metadata": {},
   "outputs": [
    {
     "data": {
      "text/plain": [
       "WEBSITES            0\n",
       "CATEGORY            0\n",
       "SUB-CATEGORY        0\n",
       "PRODUCT NAME        0\n",
       "SPECIFICATIONS    189\n",
       "COLOR               0\n",
       "PRICE               0\n",
       "DISCOUNT            0\n",
       "BRAND               0\n",
       "TYPE                0\n",
       "dtype: int64"
      ]
     },
     "execution_count": 7,
     "metadata": {},
     "output_type": "execute_result"
    }
   ],
   "source": [
    "df.isnull().sum()"
   ]
  },
  {
   "cell_type": "code",
   "execution_count": 9,
   "id": "cb1a3168-c4aa-46c5-abb3-e066a93787f3",
   "metadata": {},
   "outputs": [
    {
     "name": "stdout",
     "output_type": "stream",
     "text": [
      "<class 'pandas.core.frame.DataFrame'>\n",
      "RangeIndex: 495 entries, 0 to 494\n",
      "Data columns (total 10 columns):\n",
      " #   Column          Non-Null Count  Dtype \n",
      "---  ------          --------------  ----- \n",
      " 0   WEBSITES        495 non-null    object\n",
      " 1   CATEGORY        495 non-null    object\n",
      " 2   SUB-CATEGORY    495 non-null    object\n",
      " 3   PRODUCT NAME    495 non-null    object\n",
      " 4   SPECIFICATIONS  306 non-null    object\n",
      " 5   COLOR           495 non-null    object\n",
      " 6   PRICE           495 non-null    int64 \n",
      " 7   DISCOUNT        495 non-null    int64 \n",
      " 8   BRAND           495 non-null    object\n",
      " 9   TYPE            495 non-null    object\n",
      "dtypes: int64(2), object(8)\n",
      "memory usage: 38.8+ KB\n"
     ]
    }
   ],
   "source": [
    "df.info()"
   ]
  },
  {
   "cell_type": "code",
   "execution_count": 13,
   "id": "11b6ffbd-fd7d-4684-8714-6a57e253788a",
   "metadata": {},
   "outputs": [],
   "source": [
    "# Fill null values in 'SPECIFICATIONS' column with 'N/A'\n",
    "df['SPECIFICATIONS'] = df['SPECIFICATIONS'].fillna('N/A')"
   ]
  },
  {
   "cell_type": "code",
   "execution_count": 15,
   "id": "30c6b989-ad58-49d7-909f-8eeac36fcbe3",
   "metadata": {},
   "outputs": [
    {
     "data": {
      "text/plain": [
       "WEBSITES          0\n",
       "CATEGORY          0\n",
       "SUB-CATEGORY      0\n",
       "PRODUCT NAME      0\n",
       "SPECIFICATIONS    0\n",
       "COLOR             0\n",
       "PRICE             0\n",
       "DISCOUNT          0\n",
       "BRAND             0\n",
       "TYPE              0\n",
       "dtype: int64"
      ]
     },
     "execution_count": 15,
     "metadata": {},
     "output_type": "execute_result"
    }
   ],
   "source": [
    "df.isnull().sum()"
   ]
  },
  {
   "cell_type": "code",
   "execution_count": 17,
   "id": "94464ca6-ab12-4dc1-9db2-0e659388eddb",
   "metadata": {},
   "outputs": [
    {
     "data": {
      "text/html": [
       "<div>\n",
       "<style scoped>\n",
       "    .dataframe tbody tr th:only-of-type {\n",
       "        vertical-align: middle;\n",
       "    }\n",
       "\n",
       "    .dataframe tbody tr th {\n",
       "        vertical-align: top;\n",
       "    }\n",
       "\n",
       "    .dataframe thead th {\n",
       "        text-align: right;\n",
       "    }\n",
       "</style>\n",
       "<table border=\"1\" class=\"dataframe\">\n",
       "  <thead>\n",
       "    <tr style=\"text-align: right;\">\n",
       "      <th></th>\n",
       "      <th>PRICE</th>\n",
       "      <th>DISCOUNT</th>\n",
       "    </tr>\n",
       "  </thead>\n",
       "  <tbody>\n",
       "    <tr>\n",
       "      <th>count</th>\n",
       "      <td>495.000000</td>\n",
       "      <td>495.000000</td>\n",
       "    </tr>\n",
       "    <tr>\n",
       "      <th>mean</th>\n",
       "      <td>56287.238384</td>\n",
       "      <td>25.553535</td>\n",
       "    </tr>\n",
       "    <tr>\n",
       "      <th>std</th>\n",
       "      <td>43393.284338</td>\n",
       "      <td>13.186020</td>\n",
       "    </tr>\n",
       "    <tr>\n",
       "      <th>min</th>\n",
       "      <td>6499.000000</td>\n",
       "      <td>5.000000</td>\n",
       "    </tr>\n",
       "    <tr>\n",
       "      <th>25%</th>\n",
       "      <td>30885.000000</td>\n",
       "      <td>15.000000</td>\n",
       "    </tr>\n",
       "    <tr>\n",
       "      <th>50%</th>\n",
       "      <td>42500.000000</td>\n",
       "      <td>25.000000</td>\n",
       "    </tr>\n",
       "    <tr>\n",
       "      <th>75%</th>\n",
       "      <td>74400.000000</td>\n",
       "      <td>32.000000</td>\n",
       "    </tr>\n",
       "    <tr>\n",
       "      <th>max</th>\n",
       "      <td>262500.000000</td>\n",
       "      <td>57.000000</td>\n",
       "    </tr>\n",
       "  </tbody>\n",
       "</table>\n",
       "</div>"
      ],
      "text/plain": [
       "               PRICE    DISCOUNT\n",
       "count     495.000000  495.000000\n",
       "mean    56287.238384   25.553535\n",
       "std     43393.284338   13.186020\n",
       "min      6499.000000    5.000000\n",
       "25%     30885.000000   15.000000\n",
       "50%     42500.000000   25.000000\n",
       "75%     74400.000000   32.000000\n",
       "max    262500.000000   57.000000"
      ]
     },
     "execution_count": 17,
     "metadata": {},
     "output_type": "execute_result"
    }
   ],
   "source": [
    "df.describe()"
   ]
  },
  {
   "cell_type": "code",
   "execution_count": 37,
   "id": "a51c4d6f-2b8b-4ad6-ac37-9ed7df2099a3",
   "metadata": {},
   "outputs": [
    {
     "data": {
      "text/plain": [
       "WEBSITES\n",
       "AMAZON       165\n",
       "FLIPKART     147\n",
       "EBAY         147\n",
       "FLIPKART      36\n",
       "Name: count, dtype: int64"
      ]
     },
     "execution_count": 37,
     "metadata": {},
     "output_type": "execute_result"
    }
   ],
   "source": [
    "df['WEBSITES'].value_counts()"
   ]
  },
  {
   "cell_type": "code",
   "execution_count": 39,
   "id": "79fe6b76-7eed-4c84-9e2a-f9ebece4d660",
   "metadata": {},
   "outputs": [],
   "source": [
    "# Convert all values in 'WEBSITES' column to uppercase and strip any whitespace\n",
    "df['WEBSITES'] = df['WEBSITES'].str.upper().str.strip()"
   ]
  },
  {
   "cell_type": "code",
   "execution_count": 41,
   "id": "57da4e72-862c-4dde-810e-09c5325c7cde",
   "metadata": {},
   "outputs": [
    {
     "data": {
      "text/plain": [
       "WEBSITES\n",
       "FLIPKART    183\n",
       "AMAZON      165\n",
       "EBAY        147\n",
       "Name: count, dtype: int64"
      ]
     },
     "execution_count": 41,
     "metadata": {},
     "output_type": "execute_result"
    }
   ],
   "source": [
    "df['WEBSITES'].value_counts()"
   ]
  },
  {
   "cell_type": "code",
   "execution_count": 43,
   "id": "041b9a6e-59e4-4852-8580-38775dfaa223",
   "metadata": {},
   "outputs": [],
   "source": [
    "# Brand presence across websites (optional pivot)\n",
    "brand_website_counts = df.pivot_table(index='BRAND', columns='WEBSITES', values='PRODUCT NAME', aggfunc='count', fill_value=0)"
   ]
  },
  {
   "cell_type": "code",
   "execution_count": 45,
   "id": "bedfeccf-239c-47df-b00d-221cc14fd7ac",
   "metadata": {},
   "outputs": [
    {
     "data": {
      "text/html": [
       "<div>\n",
       "<style scoped>\n",
       "    .dataframe tbody tr th:only-of-type {\n",
       "        vertical-align: middle;\n",
       "    }\n",
       "\n",
       "    .dataframe tbody tr th {\n",
       "        vertical-align: top;\n",
       "    }\n",
       "\n",
       "    .dataframe thead th {\n",
       "        text-align: right;\n",
       "    }\n",
       "</style>\n",
       "<table border=\"1\" class=\"dataframe\">\n",
       "  <thead>\n",
       "    <tr style=\"text-align: right;\">\n",
       "      <th>WEBSITES</th>\n",
       "      <th>AMAZON</th>\n",
       "      <th>EBAY</th>\n",
       "      <th>FLIPKART</th>\n",
       "    </tr>\n",
       "    <tr>\n",
       "      <th>BRAND</th>\n",
       "      <th></th>\n",
       "      <th></th>\n",
       "      <th></th>\n",
       "    </tr>\n",
       "  </thead>\n",
       "  <tbody>\n",
       "    <tr>\n",
       "      <th>APPLE</th>\n",
       "      <td>24</td>\n",
       "      <td>24</td>\n",
       "      <td>24</td>\n",
       "    </tr>\n",
       "    <tr>\n",
       "      <th>DELL</th>\n",
       "      <td>20</td>\n",
       "      <td>20</td>\n",
       "      <td>20</td>\n",
       "    </tr>\n",
       "    <tr>\n",
       "      <th>HP</th>\n",
       "      <td>19</td>\n",
       "      <td>19</td>\n",
       "      <td>19</td>\n",
       "    </tr>\n",
       "    <tr>\n",
       "      <th>IPHONE</th>\n",
       "      <td>47</td>\n",
       "      <td>47</td>\n",
       "      <td>47</td>\n",
       "    </tr>\n",
       "    <tr>\n",
       "      <th>LG</th>\n",
       "      <td>24</td>\n",
       "      <td>24</td>\n",
       "      <td>24</td>\n",
       "    </tr>\n",
       "    <tr>\n",
       "      <th>READMI</th>\n",
       "      <td>3</td>\n",
       "      <td>3</td>\n",
       "      <td>3</td>\n",
       "    </tr>\n",
       "    <tr>\n",
       "      <th>SAMSUNG</th>\n",
       "      <td>28</td>\n",
       "      <td>10</td>\n",
       "      <td>46</td>\n",
       "    </tr>\n",
       "  </tbody>\n",
       "</table>\n",
       "</div>"
      ],
      "text/plain": [
       "WEBSITES  AMAZON  EBAY  FLIPKART\n",
       "BRAND                           \n",
       "APPLE         24    24        24\n",
       "DELL          20    20        20\n",
       "HP            19    19        19\n",
       "IPHONE        47    47        47\n",
       "LG            24    24        24\n",
       "READMI         3     3         3\n",
       "SAMSUNG       28    10        46"
      ]
     },
     "execution_count": 45,
     "metadata": {},
     "output_type": "execute_result"
    }
   ],
   "source": [
    "brand_website_counts "
   ]
  },
  {
   "cell_type": "code",
   "execution_count": 47,
   "id": "d457849e-0e8c-46f4-aa60-6530f0ed3be3",
   "metadata": {},
   "outputs": [
    {
     "data": {
      "text/plain": [
       "Index(['WEBSITES', 'CATEGORY', 'SUB-CATEGORY', 'PRODUCT NAME',\n",
       "       'SPECIFICATIONS', 'COLOR', 'PRICE', 'DISCOUNT', 'BRAND', 'TYPE'],\n",
       "      dtype='object')"
      ]
     },
     "execution_count": 47,
     "metadata": {},
     "output_type": "execute_result"
    }
   ],
   "source": [
    "df.columns"
   ]
  },
  {
   "cell_type": "code",
   "execution_count": 49,
   "id": "97c9b64c-822a-4553-85fa-2510cb0d57b3",
   "metadata": {},
   "outputs": [],
   "source": [
    "# 1. Top 5 Deals"
   ]
  },
  {
   "cell_type": "code",
   "execution_count": 51,
   "id": "98e38c9c-a8d5-4952-9223-7819fd308a20",
   "metadata": {},
   "outputs": [
    {
     "name": "stdout",
     "output_type": "stream",
     "text": [
      "    PRODUCT NAME BRAND  WEBSITES  DISCOUNT\n",
      "227   DELL WYSE   DELL  FLIPKART        57\n",
      "289   DELL WYSE   DELL    AMAZON        57\n",
      "290   DELL WYSE   DELL    AMAZON        57\n",
      "353   DELL WYSE   DELL      EBAY        57\n",
      "226   DELL WYSE   DELL  FLIPKART        57\n"
     ]
    }
   ],
   "source": [
    "top_deals = df.sort_values(by='DISCOUNT', ascending=False)[['PRODUCT NAME', 'BRAND', 'WEBSITES', 'DISCOUNT']].head(5)\n",
    "print(top_deals)"
   ]
  },
  {
   "cell_type": "code",
   "execution_count": 53,
   "id": "c752350a-ea4e-4b2f-8c71-7e732e60718f",
   "metadata": {},
   "outputs": [
    {
     "name": "stdout",
     "output_type": "stream",
     "text": [
      "                  PRODUCT NAME  BRAND WEBSITES   PRICE\n",
      "326  APPLE MACKBOOK PRO M3 MAX  APPLE     EBAY  262500\n",
      "261  APPLE MACKBOOK PRO M3 MAX  APPLE   AMAZON  262500\n",
      "325  APPLE MACKBOOK PRO M3 MAX  APPLE     EBAY  262500\n",
      "262  APPLE MACKBOOK PRO M3 MAX  APPLE   AMAZON  262500\n",
      "263  APPLE MACKBOOK PRO M3 MAX  APPLE   AMAZON  262500\n"
     ]
    }
   ],
   "source": [
    "expensive_product = df.sort_values(by='PRICE', ascending=False)[['PRODUCT NAME', 'BRAND', 'WEBSITES', 'PRICE']].head(5)\n",
    "print(expensive_product)"
   ]
  },
  {
   "cell_type": "code",
   "execution_count": 55,
   "id": "caf1171b-680d-4fae-8259-8e280852458c",
   "metadata": {},
   "outputs": [],
   "source": [
    "# 2. Average Discount per Website"
   ]
  },
  {
   "cell_type": "code",
   "execution_count": 57,
   "id": "b5ca20de-7579-40a2-8c35-f39a2e5b1dd4",
   "metadata": {},
   "outputs": [
    {
     "name": "stdout",
     "output_type": "stream",
     "text": [
      "WEBSITES\n",
      "AMAZON      25.539394\n",
      "EBAY        25.108844\n",
      "FLIPKART    25.923497\n",
      "Name: DISCOUNT, dtype: float64\n"
     ]
    }
   ],
   "source": [
    "avg_discount = df.groupby('WEBSITES')['DISCOUNT'].mean()\n",
    "print(avg_discount)"
   ]
  },
  {
   "cell_type": "code",
   "execution_count": 59,
   "id": "36c0f0c2-5cbe-48cb-b5ce-20e7def11276",
   "metadata": {},
   "outputs": [],
   "source": [
    "#  3. Brand-wise Product Count"
   ]
  },
  {
   "cell_type": "code",
   "execution_count": 61,
   "id": "1e0d8a50-592a-468a-97dd-94a48cd0bf01",
   "metadata": {},
   "outputs": [
    {
     "name": "stdout",
     "output_type": "stream",
     "text": [
      "BRAND\n",
      "IPHONE     141\n",
      "SAMSUNG     84\n",
      "APPLE       72\n",
      "LG          72\n",
      "DELL        60\n",
      "HP          57\n",
      "READMI       9\n",
      "Name: count, dtype: int64\n"
     ]
    }
   ],
   "source": [
    "brand_counts = df['BRAND'].value_counts().head(10)\n",
    "print(brand_counts)"
   ]
  },
  {
   "cell_type": "code",
   "execution_count": 65,
   "id": "f7534d39-81ec-4eab-a050-1103bf03ab32",
   "metadata": {},
   "outputs": [],
   "source": [
    "# A. Discount Distribution"
   ]
  },
  {
   "cell_type": "code",
   "execution_count": 63,
   "id": "95f608ba-af7d-488d-be00-e4cdf80873cf",
   "metadata": {},
   "outputs": [
    {
     "data": {
      "image/png": "[encoded data removed]",
      "text/plain": [
       "<Figure size 640x480 with 1 Axes>"
      ]
     },
     "metadata": {},
     "output_type": "display_data"
    }
   ],
   "source": [
    "sns.histplot(df['DISCOUNT'], kde=True, bins=30)\n",
    "plt.title('Discount Percentage Distribution')\n",
    "plt.xlabel('Discount %')\n",
    "plt.ylabel('Count')\n",
    "plt.show()"
   ]
  },
  {
   "cell_type": "code",
   "execution_count": 67,
   "id": "daa595f4-121f-4947-9f0d-54d2d3355365",
   "metadata": {},
   "outputs": [],
   "source": [
    "# B. Top 10 Brands by Count"
   ]
  },
  {
   "cell_type": "code",
   "execution_count": 69,
   "id": "bf763784-7569-48d8-a754-c6d0def2280b",
   "metadata": {},
   "outputs": [
    {
     "data": {
      "image/png": "[encoded data removed]",
      "text/plain": [
       "<Figure size 640x480 with 1 Axes>"
      ]
     },
     "metadata": {},
     "output_type": "display_data"
    }
   ],
   "source": [
    "top_brands = df['BRAND'].value_counts().head(10)\n",
    "sns.barplot(x=top_brands.values, y=top_brands.index)\n",
    "plt.title('Top 10 Brands by Product Count')\n",
    "plt.xlabel('Product Count')\n",
    "plt.ylabel('Brand')\n",
    "plt.show()"
   ]
  },
  {
   "cell_type": "code",
   "execution_count": 71,
   "id": "4f45e016-7244-40b6-b86f-26fae4521bf3",
   "metadata": {},
   "outputs": [],
   "source": [
    "# C. Website-wise Avg Discount %"
   ]
  },
  {
   "cell_type": "code",
   "execution_count": 73,
   "id": "7e00ea07-7a24-4db2-a5f2-e3c2ad8568c0",
   "metadata": {},
   "outputs": [
    {
     "data": {
      "image/png": "[encoded data removed]",
      "text/plain": [
       "<Figure size 640x480 with 1 Axes>"
      ]
     },
     "metadata": {},
     "output_type": "display_data"
    }
   ],
   "source": [
    "sns.barplot(x=avg_discount.index, y=avg_discount.values)\n",
    "plt.title('Average Discount by Website')\n",
    "plt.xlabel('Website')\n",
    "plt.ylabel('Average Discount %')\n",
    "plt.show()"
   ]
  },
  {
   "cell_type": "code",
   "execution_count": 79,
   "id": "9e72ceec-658c-4d42-8b63-ceead1caf0f5",
   "metadata": {},
   "outputs": [
    {
     "data": {
      "text/plain": [
       "Index(['WEBSITES', 'CATEGORY', 'SUB-CATEGORY', 'PRODUCT NAME',\n",
       "       'SPECIFICATIONS', 'COLOR', 'PRICE', 'DISCOUNT', 'BRAND', 'TYPE'],\n",
       "      dtype='object')"
      ]
     },
     "execution_count": 79,
     "metadata": {},
     "output_type": "execute_result"
    }
   ],
   "source": [
    "df.columns"
   ]
  },
  {
   "cell_type": "code",
   "execution_count": null,
   "id": "a871ac33-8e34-410d-bbfd-fc6c89ea1ee0",
   "metadata": {},
   "outputs": [],
   "source": []
  }
 ],
 "metadata": {
  "kernelspec": {
   "display_name": "Python 3 (ipykernel)",
   "language": "python",
   "name": "python3"
  },
  "language_info": {
   "codemirror_mode": {
    "name": "ipython",
    "version": 3
   },
   "file_extension": ".py",
   "mimetype": "text/x-python",
   "name": "python",
   "nbconvert_exporter": "python",
   "pygments_lexer": "ipython3",
   "version": "3.12.4"
  }
 },
 "nbformat": 4,
 "nbformat_minor": 5
}
